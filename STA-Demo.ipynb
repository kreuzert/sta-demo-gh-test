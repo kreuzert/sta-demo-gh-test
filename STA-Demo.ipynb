{
 "cells": [
  {
   "cell_type": "code",
   "execution_count": null,
   "id": "e94d9c30-257a-458e-85a4-34ac9bda946b",
   "metadata": {},
   "outputs": [],
   "source": [
    "import datetime\n",
    "import pprint\n",
    "\n",
    "import requests\n",
    "\n",
    "import pandas as pd\n",
    "import matplotlib.pyplot as plt"
   ]
  },
  {
   "cell_type": "code",
   "execution_count": null,
   "id": "d4dd7755-855c-4b78-828d-d3ee17b4e991",
   "metadata": {},
   "outputs": [],
   "source": [
    "def fetch_datastream(sta_url, datastream_id, start_datetime=None, end_datetime=None):\n",
    "    \"\"\"Return a pandas dataframe with the data and a dictionary with the metadata.\n",
    "\n",
    "    Parameters:\n",
    "    -----------\n",
    "    sta_url : str\n",
    "        Base url of the STA server. Something like https://sta.gfz-potsdam.de\n",
    "        or https://service.tereno.net/eifelrur.sta.stamplate\n",
    "    datastream_id : int\n",
    "        The id of the datastream to fetch.\n",
    "    start_datetime: Optional[datetime.datetime]\n",
    "        The optinal start date for that we want to query data. If specified no earlier data\n",
    "        will be fetched.\n",
    "    end_datetime: Optional[datetime.datetime]\n",
    "        The optinal end date for the query. If set no later data will be fetched.\n",
    "\n",
    "    Returns\n",
    "    -------\n",
    "    df : pd.DataFrame\n",
    "        Dataframe that contains a date column and a column with the integrated data.\n",
    "        The `date` column will be read from the resultTime value in the STA server.\n",
    "        The column with data is form the result value and will be set with the column name\n",
    "        of the observed property. This way we return \"Air temperature\", \"Soil moisture\", etc.\n",
    "    metadata: dict\n",
    "        A dict that contains all the STA metadata of the datastream including information\n",
    "        about the observed property, the thing, unit of measure and the sensor.\n",
    "    \"\"\"\n",
    "    metadata_url = f\"{sta_url}/v1.1/Datastreams({datastream_id})\"\n",
    "    metadata_response = requests.get(metadata_url, {\n",
    "        \"$expand\": \"Thing($expand=Locations),Sensor,ObservedProperty\",\n",
    "    })\n",
    "    metadata_response.raise_for_status()\n",
    "    metadata = metadata_response.json()\n",
    "\n",
    "    data_url = f\"{sta_url}/v1.1/Datastreams({datastream_id})/Observations\"\n",
    "    # https://fraunhoferiosb.github.io/FROST-Server/sensorthingsapi/requestingData/STA-Tailoring-Responses.html\n",
    "    # Top is the value for the page size.\n",
    "    top = 1000\n",
    "    skip = 0\n",
    "    fetch_next_page = True\n",
    "    collected_data = []\n",
    "    output_column = metadata[\"ObservedProperty\"][\"name\"]\n",
    "    filters = []\n",
    "    if start_datetime is not None:\n",
    "        filters.append(f\"resultTime ge {start_datetime.isoformat()}\")\n",
    "    if end_datetime is not None:\n",
    "        filters.append(f\"resultTime le {end_datetime.isoformat()}\")\n",
    "    common_params_for_data_queries = {\n",
    "        \"$top\": top,\n",
    "    }\n",
    "    if filters:\n",
    "        common_params_for_data_queries[\"$filter\"] = \" and \".join(filters)\n",
    "    while fetch_next_page:\n",
    "        data_response = requests.get(data_url, {\"$skip\": skip, **common_params_for_data_queries})\n",
    "        data_response.raise_for_status()\n",
    "        skip += top\n",
    "        data = data_response.json()[\"value\"]\n",
    "        for data_point in data:\n",
    "            collected_data.append({\n",
    "                # The python standard lib can't parse values like 2023-11-16T00:00:00Z\n",
    "                # However, it can parse 2023-11-16T00:00:00+00:00 - which is equivalent.\n",
    "                \"date\": datetime.datetime.fromisoformat(data_point[\"resultTime\"].replace(\"Z\", \"+00:00\")),\n",
    "                output_column: data_point[\"result\"]\n",
    "            })\n",
    "        fetch_next_page = len(data) > 0\n",
    "\n",
    "    df = pd.DataFrame(collected_data)\n",
    "        \n",
    "    return df, metadata"
   ]
  },
  {
   "cell_type": "code",
   "execution_count": null,
   "id": "7e286dad-9a7a-4ad2-b40d-ad6ef84f81d9",
   "metadata": {},
   "outputs": [],
   "source": [
    "sta_url = \"https://sta.gfz-potsdam.de\"\n",
    "# The datastream_link_id for the alaska mountains in SMS is 610.\n",
    "# I looked that up in the MaTS database.\n",
    "datastream_id = 607"
   ]
  },
  {
   "cell_type": "code",
   "execution_count": null,
   "id": "f51b24d0-197f-498d-8687-6507d089958f",
   "metadata": {},
   "outputs": [],
   "source": [
    "df, metadata = fetch_datastream(sta_url, datastream_id)\n",
    "\n",
    "# For subsets\n",
    "# df, metadata = fetch_datastream(\n",
    "#     sta_url, \n",
    "#     datastream_id, \n",
    "#     start_datetime=datetime.datetime(2015, 1, 1, 0, 0, 0, 0, datetime.timezone.utc),\n",
    "#     end_datetime=datetime.datetime(2016, 1, 1, 0, 0, 0, 0, datetime.timezone.utc),\n",
    "# )"
   ]
  },
  {
   "cell_type": "code",
   "execution_count": null,
   "id": "8ccbdc83-51cd-42c8-8087-b8717cd71f26",
   "metadata": {},
   "outputs": [],
   "source": [
    "pprint.pprint(metadata)"
   ]
  },
  {
   "cell_type": "code",
   "execution_count": null,
   "id": "72b72c04-86c3-4787-8b3f-7a0d7f00836c",
   "metadata": {},
   "outputs": [],
   "source": [
    "df.head()"
   ]
  },
  {
   "cell_type": "code",
   "execution_count": null,
   "id": "82d7881a-99b7-4056-b0ea-23134d189fc8",
   "metadata": {},
   "outputs": [],
   "source": [
    "plt.plot(df[\"date\"], df[\"Terrestrial Water Storage Anomaly\"])"
   ]
  }
 ],
 "metadata": {
  "kernelspec": {
   "display_name": "Python 3 (ipykernel)",
   "language": "python",
   "name": "python3"
  },
  "language_info": {
   "codemirror_mode": {
    "name": "ipython",
    "version": 3
   },
   "file_extension": ".py",
   "mimetype": "text/x-python",
   "name": "python",
   "nbconvert_exporter": "python",
   "pygments_lexer": "ipython3",
   "version": "3.10.12"
  }
 },
 "nbformat": 4,
 "nbformat_minor": 5
}
